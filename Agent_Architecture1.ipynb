{
 "cells": [
  {
   "cell_type": "markdown",
   "metadata": {},
   "source": [
    "### Cab-Driver Agent"
   ]
  },
  {
   "cell_type": "code",
   "execution_count": 15,
   "metadata": {},
   "outputs": [],
   "source": [
    "# Importing libraries\n",
    "import numpy as np\n",
    "import random\n",
    "import math\n",
    "from collections import deque\n",
    "import collections\n",
    "import pickle\n",
    "\n",
    "# for building DQN model\n",
    "from keras import layers\n",
    "from keras import Sequential\n",
    "from keras.layers import Dense, Activation, Flatten\n",
    "from keras.optimizers import Adam\n",
    "\n",
    "# for plotting graphs\n",
    "import matplotlib.pyplot as plt\n",
    "\n",
    "# Import the environment\n",
    "from Env import CabDriver"
   ]
  },
  {
   "cell_type": "markdown",
   "metadata": {},
   "source": [
    "#### Defining Time Matrix"
   ]
  },
  {
   "cell_type": "code",
   "execution_count": 16,
   "metadata": {},
   "outputs": [],
   "source": [
    "# Loading the time matrix provided\n",
    "Time_matrix = np.load(\"TM.npy\")"
   ]
  },
  {
   "cell_type": "markdown",
   "metadata": {},
   "source": [
    "#### Tracking the state-action pairs for checking convergence\n"
   ]
  },
  {
   "cell_type": "code",
   "execution_count": 17,
   "metadata": {},
   "outputs": [],
   "source": [
    "#Defining a function to save the Q-dictionary as a pickle file\n",
    "def save_obj(obj, name ):\n",
    "    with open(name + '.pkl', 'wb') as f:\n",
    "        pickle.dump(obj, f, pickle.HIGHEST_PROTOCOL)"
   ]
  },
  {
   "cell_type": "code",
   "execution_count": 18,
   "metadata": {},
   "outputs": [],
   "source": [
    "def get_key(lst):\n",
    "  \"\"\"return the state as state encoding as string for example 100001..11 will be returned as '100001..11'  \"\"\"\n",
    "  finaloutput=''\n",
    "  for item in lst:\n",
    "      if type(item)!=str:\n",
    "          finaloutput+=str(int(item))\n",
    "      else:\n",
    "          finaloutput+=str(item)\n",
    "  return finaloutput"
   ]
  },
  {
   "cell_type": "code",
   "execution_count": 19,
   "metadata": {},
   "outputs": [],
   "source": [
    "States_track = collections.defaultdict(dict)"
   ]
  },
  {
   "cell_type": "code",
   "execution_count": 20,
   "metadata": {},
   "outputs": [],
   "source": [
    "# Initializing with a default states to be tracked\n",
    "def initialise_tracking_states():\n",
    "  sample_q_values = [\n",
    "                   (0,1,0,0,0,0,0,0,0,0,0,0,0,0,1,0,0,0,0,0,0,0,0,0,0,0,0,0,0,1,0,0,0,0,0,0),\n",
    "                   (0,0,0,1,0,0,0,0,0,0,0,0,0,0,0,1,0,0,0,0,0,0,0,0,0,0,0,0,0,0,1,0,0,0,0,0),\n",
    "                   (0,0,1,0,0,0,0,0,0,0,0,0,0,0,0,0,1,0,0,0,0,0,0,0,0,0,0,0,0,0,0,0,1,0,0,0),\n",
    "                   (1,0,0,0,0,0,0,0,0,0,0,0,0,0,0,0,0,1,0,0,0,0,0,0,0,0,0,0,0,0,0,0,0,0,0,1)]  \n",
    "  for q_values in sample_q_values:\n",
    "    state=get_key(q_values)\n",
    "    States_track[state]= []"
   ]
  },
  {
   "cell_type": "code",
   "execution_count": 21,
   "metadata": {},
   "outputs": [],
   "source": [
    "initialise_tracking_states()"
   ]
  },
  {
   "cell_type": "markdown",
   "metadata": {},
   "source": [
    "### Agent Class\n",
    "\n",
    "If you are using this framework, you need to fill the following to complete the following code block:\n",
    "1. State and Action Size\n",
    "2. Hyperparameters\n",
    "3. Create a neural-network model in function 'build_model()'\n",
    "4. Define epsilon-greedy strategy in function 'get_action()'\n",
    "5. Complete the function 'append_sample()'. This function appends the recent experience tuple <state, action, reward, new-state> to the memory\n",
    "6. Complete the 'train_model()' function with following logic:\n",
    "   - If the memory size is greater than mini-batch size, you randomly sample experiences from memory as per the mini-batch size and do the following:\n",
    "      - Initialise your input and output batch for training the model\n",
    "      - Calculate the target Q value for each sample: reward + gamma*max(Q(s'a,))\n",
    "      - Get Q(s', a) values from the last trained model\n",
    "      - Update the input batch as your encoded state and output batch as your Q-values\n",
    "      - Then fit your DQN model using the updated input and output batch."
   ]
  },
  {
   "cell_type": "code",
   "execution_count": 22,
   "metadata": {},
   "outputs": [],
   "source": [
    "class DQNAgent:\n",
    "    def __init__(self, state_size, action_size):\n",
    "      \n",
    "      self.state_size = state_size       # Define size of state\n",
    "      self.action_size = action_size     # Define size of action\n",
    "      self.track_loss=[]                 # Tracking the loss\n",
    "\n",
    "      # Write here: Specify you hyper parameters for the DQN\n",
    "      self.discount_factor = 0.93\n",
    "      self.learning_rate = 0.01 \n",
    "      self.epsilon_max = 1.0\n",
    "      self.epsilon_decay = 0.0003\n",
    "      self.epsilon_min = 0.000001\n",
    "      self.batch_size = 32 \n",
    "      self.memory = deque(maxlen=2000)   # create replay memory using deque\n",
    "      self.model = self.build_model()    # create main model and target model\n",
    "\n",
    "        \n",
    "    # approximate Q function using Neural Network\n",
    "    def build_model(self):\n",
    "      model = Sequential()    \n",
    "      # hidden layers\n",
    "      model.add(Dense(32, input_dim=self.state_size, activation='relu', kernel_initializer='he_uniform'))\n",
    "      model.add(Dense(32, activation='relu', kernel_initializer='he_uniform'))\n",
    "      model.add(Dense(self.action_size, activation='linear', kernel_initializer='he_uniform')) # the output layer: output is of size num_actions in this case 20\n",
    "      model.compile(loss='mse',optimizer=Adam(lr=self.learning_rate))\n",
    "      model.summary\n",
    "      return model\n",
    "\n",
    "    # pick samples randomly from replay memory (with batch_size) and train the network\n",
    "    def train_model(self):\n",
    "      if len(self.memory) > self.batch_size:\n",
    "        # Sample batch from the memory\n",
    "        mini_batch = random.sample(self.memory, self.batch_size)\n",
    "        update_output = np.zeros((self.batch_size, self.state_size))# write here\n",
    "        update_input = np.zeros((self.batch_size, self.state_size))# write here\n",
    "\n",
    "        actions, rewards, done = [], [],[]\n",
    "\n",
    "        for i in range(self.batch_size):\n",
    "          state, action, reward, next_state,done_boolean = mini_batch[i]\n",
    "          update_input[i] = state\n",
    "          actions.append(action)\n",
    "          rewards.append(reward)\n",
    "          update_output[i] = next_state\n",
    "          done.append(done_boolean)\n",
    "\n",
    "        # 1. Predict the target from earlier model\n",
    "        target = self.model.predict(update_input)\n",
    "\n",
    "        # 2. Get the target for the Q-network\n",
    "        target_qval = self.model.predict(update_output)\n",
    "        \n",
    "        #3. Update your 'update_output' and 'update_input' batch\n",
    "        for i in range(self.batch_size):\n",
    "          if done[i]:\n",
    "              target[i][actions[i]] = rewards[i]\n",
    "          else: # non-terminal state\n",
    "              target[i][actions[i]] = rewards[i] + self.discount_factor * np.max(target_qval[i]) #DQ formula\n",
    "          \n",
    "          # Saving the Q values for states tracked\n",
    "          state_key=get_key(update_input[i])\n",
    "          if state_key in States_track.keys():\n",
    "            States_track[state_key].append(target[i])\n",
    "        \n",
    "        # 4. Fit your model and track the loss values\n",
    "        history=self.model.fit(update_input, target, batch_size=self.batch_size, epochs=1, verbose=0)\n",
    "        self.track_loss.append(history.history['loss'])\n",
    "\n",
    "\n",
    "    def get_model_weights(self):\n",
    "        return self.model.get_weights()\n",
    "    \n",
    "    def get_action(self, state,request_actions):\n",
    "      # get action from model using epsilon-greedy policy      \n",
    "      if np.random.rand() <= self.epsilon_max:   # Decay in ε after we generate each sample from the environment\n",
    "          return request_actions[random.randrange(len(request_actions))]\n",
    "      else:\n",
    "          # choose the action with the highest q(s, a)\n",
    "          # the first index corresponds to the batch size, so\n",
    "          # reshape state to (1, state_size) so that the first index corresponds to the batch size\n",
    "          state = state.reshape(1, self.state_size)\n",
    "          q_value = self.model.predict(state)\n",
    "          return np.argmax(q_value[0])    \n",
    "\n",
    "    def append_sample(self, state, action, reward, next_state,done):\n",
    "      self.memory.append((state, action, reward, next_state,done))    # save sample <s,a,r,s',done> to the replay memory\n",
    "    "
   ]
  },
  {
   "cell_type": "code",
   "execution_count": null,
   "metadata": {},
   "outputs": [
    {
     "name": "stdout",
     "output_type": "stream",
     "text": [
      "WARNING:tensorflow:From C:\\Users\\HP\\Anaconda2\\lib\\site-packages\\tensorflow\\python\\framework\\op_def_library.py:263: colocate_with (from tensorflow.python.framework.ops) is deprecated and will be removed in a future version.\n",
      "Instructions for updating:\n",
      "Colocations handled automatically by placer.\n"
     ]
    }
   ],
   "source": [
    "Episodes=5000\n",
    "env=CabDriver()\n",
    "#Call the DQN agent\n",
    "agent=DQNAgent(state_size=env.state_size,action_size=env.action_size)\n",
    "rewards_per_episode, episodes = [], []"
   ]
  },
  {
   "cell_type": "markdown",
   "metadata": {},
   "source": [
    "### DQN block"
   ]
  },
  {
   "cell_type": "code",
   "execution_count": null,
   "metadata": {},
   "outputs": [
    {
     "name": "stdout",
     "output_type": "stream",
     "text": [
      "WARNING:tensorflow:From C:\\Users\\HP\\Anaconda2\\lib\\site-packages\\tensorflow\\python\\ops\\math_ops.py:3066: to_int32 (from tensorflow.python.ops.math_ops) is deprecated and will be removed in a future version.\n",
      "Instructions for updating:\n",
      "Use tf.cast instead.\n",
      "episode 499, reward -2097.0, memory_length 2000, epsilon 0.8827176716730151\n",
      "episode 999, reward -1810.0, memory_length 2000, epsilon 0.6068343940374606\n",
      "episode 1499, reward -1999.0, memory_length 2000, epsilon 0.3248967231441591\n",
      "episode 1999, reward -3506.0, memory_length 2000, epsilon 0.13547155073936643\n"
     ]
    }
   ],
   "source": [
    "for episode in range(Episodes):\n",
    "  terminal_state=False\n",
    "  score=0  \n",
    "  env_initalized=env.reset()\n",
    "  state=env_initalized[2]\n",
    "  # episode_lenght=-1\n",
    "  while not terminal_state:\n",
    "    request_actions=env.requests(state)[1]\n",
    "    next_action=agent.get_action(env.state_encod_arch1(state),request_actions)  \n",
    "    next_state,action,reward,is_done=env.next_state_func(state,next_action,Time_matrix)\n",
    "    if action[0]!=0 and action[1]!=0:\n",
    "      agent.append_sample(env.state_encod_arch1(state),env.action_space.index(action),reward,env.state_encod_arch1(next_state),is_done)\n",
    "      # 4. Train the model by calling function agent.train_model\n",
    "      agent.train_model()\n",
    "      # 5. Keep a track of rewards, Q-values, loss\n",
    "      score+=reward\n",
    "  # assinging state with next_state\n",
    "    state=next_state\n",
    "    terminal_state=is_done\n",
    "  rewards_per_episode.append(score)\n",
    "  episodes.append(episode)\n",
    "  \n",
    "  if agent.epsilon_max > agent.epsilon_min:\n",
    "    agent.epsilon_max=agent.epsilon_min+(agent.epsilon_max-agent.epsilon_min)*np.exp(-0.000001*episode)\n",
    "      \n",
    "  if (episode+1) % 500 == 0:\n",
    "    save_obj(agent.get_model_weights(), 'weights_per_'+str(episode+1)+'_epiosde')\n",
    "    print(\"episode {0}, reward {1}, memory_length {2}, epsilon {3}\".format(episode,score,len(agent.memory),agent.epsilon_max))"
   ]
  },
  {
   "cell_type": "code",
   "execution_count": null,
   "metadata": {},
   "outputs": [],
   "source": [
    "save_obj(rewards_per_episode,\"rewards_\"+str(Episodes))"
   ]
  },
  {
   "cell_type": "code",
   "execution_count": null,
   "metadata": {},
   "outputs": [],
   "source": [
    "save_obj(States_track,\"States Tracked\")\n",
    "state_keys=list(States_track.keys())"
   ]
  },
  {
   "cell_type": "markdown",
   "metadata": {},
   "source": [
    "### Tracking Convergence"
   ]
  },
  {
   "cell_type": "code",
   "execution_count": null,
   "metadata": {},
   "outputs": [],
   "source": [
    "with open('rewards_'+str(Episodes)+'.pkl', 'rb') as f:\n",
    "    rewards_per_episode = pickle.load(f)\n",
    "\n",
    "plt.plot(list(range(len(rewards_per_episode))), rewards_per_episode)\n",
    "plt.xlabel(\"Number of Episodes\")\n",
    "plt.ylabel(\"reward of each Episode\")\n",
    "plt.yscale('log')\n",
    "plt.show()\n"
   ]
  }
 ],
 "metadata": {
  "kernelspec": {
   "display_name": "Python 3",
   "language": "python",
   "name": "python3"
  }
 },
 "nbformat": 4,
 "nbformat_minor": 2
}
